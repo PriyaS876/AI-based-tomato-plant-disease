{
  "nbformat": 4,
  "nbformat_minor": 0,
  "metadata": {
    "colab": {
      "provenance": [],
      "mount_file_id": "1mA7ZrypY_JrCXWKDvMH6c_e7VMPObGNT",
      "authorship_tag": "ABX9TyPfezNMe5K9wnJY7N0f97rz",
      "include_colab_link": true
    },
    "kernelspec": {
      "name": "python3",
      "display_name": "Python 3"
    },
    "language_info": {
      "name": "python"
    }
  },
  "cells": [
    {
      "cell_type": "markdown",
      "metadata": {
        "id": "view-in-github",
        "colab_type": "text"
      },
      "source": [
        "<a href=\"https://colab.research.google.com/github/ANSHTHAKUR07/Vision-plant-des/blob/main/github_vision.ipynb\" target=\"_parent\"><img src=\"https://colab.research.google.com/assets/colab-badge.svg\" alt=\"Open In Colab\"/></a>"
      ]
    },
    {
      "cell_type": "code",
      "source": [],
      "metadata": {
        "id": "NM47EME1jLUh"
      },
      "execution_count": null,
      "outputs": []
    },
    {
      "cell_type": "code",
      "source": [
        "import os\n",
        "import shutil\n",
        "from sklearn.model_selection import train_test_split\n",
        "\n",
        "from google.colab import drive\n",
        "drive.mount('/content/drive')\n"
      ],
      "metadata": {
        "colab": {
          "base_uri": "https://localhost:8080/"
        },
        "id": "fB95qXV4jGuj",
        "outputId": "3b172e3f-b888-491d-8417-7486a920db22"
      },
      "execution_count": 2,
      "outputs": [
        {
          "output_type": "stream",
          "name": "stdout",
          "text": [
            "Mounted at /content/drive\n"
          ]
        }
      ]
    },
    {
      "cell_type": "code",
      "source": [
        "# Original dataset directory\n",
        "base_dir = '/content/drive/MyDrive/PlantVillage'"
      ],
      "metadata": {
        "id": "D_BpAvQnjpyc"
      },
      "execution_count": 3,
      "outputs": []
    },
    {
      "cell_type": "code",
      "execution_count": 5,
      "metadata": {
        "colab": {
          "base_uri": "https://localhost:8080/"
        },
        "id": "C4KR6zBHIl41",
        "outputId": "dd3188cb-467f-4178-88ef-9ca51a995c31"
      },
      "outputs": [
        {
          "output_type": "stream",
          "name": "stdout",
          "text": [
            "✅ Done! Data split into training and validation folders.\n"
          ]
        }
      ],
      "source": [
        "\n",
        "\n",
        "# Destination directories\n",
        "train_dir = '/content/drive/MyDrive/PlantVillage/plant_train'\n",
        "val_dir = '/content/drive/MyDrive/PlantVillage/plant_val'\n",
        "\n",
        "# Class names (folder names)\n",
        "categories = ['Tomato_healthy', 'Tomato_Late_blight', 'Tomato_Bacterial_spot', 'Tomato_Early_blight']\n",
        "\n",
        "\n",
        "# Create train and val folders\n",
        "for category in categories:\n",
        "    os.makedirs(os.path.join(train_dir, category), exist_ok=True)\n",
        "    os.makedirs(os.path.join(val_dir, category), exist_ok=True)\n",
        "\n",
        "# Split each category\n",
        "for category in categories:\n",
        "    source_folder = os.path.join(base_dir, category)\n",
        "    images = os.listdir(source_folder)\n",
        "\n",
        "    train_imgs, val_imgs = train_test_split(images, test_size=0.2, random_state=42)\n",
        "\n",
        "    # Copy training images\n",
        "    for img in train_imgs:\n",
        "        src_path = os.path.join(source_folder, img)\n",
        "        dst_path = os.path.join(train_dir, category, img)\n",
        "        shutil.copyfile(src_path, dst_path)\n",
        "\n",
        "    # Copy validation images\n",
        "    for img in val_imgs:\n",
        "        src_path = os.path.join(source_folder, img)\n",
        "        dst_path = os.path.join(val_dir, category, img)\n",
        "        shutil.copyfile(src_path, dst_path)\n",
        "\n",
        "print(\"✅ Done! Data split into training and validation folders.\")\n"
      ]
    },
    {
      "cell_type": "code",
      "source": [],
      "metadata": {
        "id": "LZDA4j6tjEXp"
      },
      "execution_count": null,
      "outputs": []
    }
  ]
}